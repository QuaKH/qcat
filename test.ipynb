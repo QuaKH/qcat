{
 "cells": [
  {
   "cell_type": "code",
   "execution_count": 2,
   "metadata": {},
   "outputs": [],
   "source": [
    "import numpy as np"
   ]
  },
  {
   "cell_type": "code",
   "execution_count": 95,
   "metadata": {},
   "outputs": [
    {
     "output_type": "execute_result",
     "data": {
      "text/plain": [
       "([1, 1, -1, -1, 1, 1], ([0, 1, 0, 1, 0, 1], [0, 0, 1, 1, 2, 2]))"
      ]
     },
     "metadata": {},
     "execution_count": 95
    }
   ],
   "source": [
    "def file_to_differential(path):\n",
    "    s = \"\"\n",
    "    with open(path, 'r') as reader:\n",
    "        s = reader.read()[10:-3]\n",
    "    \n",
    "    rows = []\n",
    "    cols = []\n",
    "    vals = []\n",
    "    \n",
    "    bitmask = np.int64(2**32)\n",
    "    \n",
    "    for elem in s.split(\", \"):\n",
    "        n = np.int64(elem)\n",
    "        rows.append((abs(n) // bitmask) - 1)\n",
    "        cols.append((abs(n) % bitmask) - 1)\n",
    "        vals.append(1 if n > 0 else -1)\n",
    "    \n",
    "    return vals, (rows, cols)\n",
    "\n",
    "file_to_differential(\"/home/jay/desktop/qcat/KhoHo/differentials/knot_3_1/knot_3_1__d_-1_-3\")"
   ]
  },
  {
   "cell_type": "code",
   "execution_count": 117,
   "metadata": {},
   "outputs": [],
   "source": [
    "import scipy\n",
    "import scipy.sparse\n",
    "import scipy.sparse.linalg\n",
    "\n",
    "# compute laplacian from differentials\n",
    "# def get_laplacian(d_i_minus_1, d_i):\n",
    "    \n",
    "#     if d_i != None:\n",
    "#         D_i = d_i.transpose() * d_i\n",
    "\n",
    "#     if d_i_minus_1 != None\n",
    "#         D_i_minus_1 = d_i_minus_1 * d_i_minus_1.transpose()\n",
    "\n",
    "#     return None\n",
    "\n",
    "def get_eigs(laplacian):\n",
    "    # get smallest eigenpair\n",
    "\n",
    "    eig_val_small = -1\n",
    "    if laplacian.det() != 0: # @TODO: somehow decide if this laplacian is nonsingular\n",
    "        eig_val_small, eig_vec_small = scipy.sparse.linalg.eigsh(laplacian, k=1, sigma=0, maxiter=1000)\n",
    "    \n",
    "    eig_val_big, eig_vec_big = scipy.sparse.linalg.eigsh(laplacian, k=1, maxiter=1000)\n",
    "\n",
    "    return (eig_val_small, eig_val_big)\n"
   ]
  },
  {
   "cell_type": "code",
   "execution_count": 104,
   "metadata": {},
   "outputs": [],
   "source": [
    "import glob\n",
    "\n",
    "def read_differential_files(dir):\n",
    "    files = glob.glob(dir + \"/*\")\n",
    "\n",
    "    dict = {}\n",
    "\n",
    "    for file in files:\n",
    "        data = file.split(\"_\")\n",
    "        i = int(data[-2])\n",
    "        j = int(data[-1])\n",
    "        \n",
    "        dict[(i,j)] = file\n",
    "    \n",
    "    return dict"
   ]
  },
  {
   "cell_type": "code",
   "execution_count": 122,
   "metadata": {},
   "outputs": [],
   "source": [
    "\n",
    "def get_diff_matrix(path):\n",
    "    return scipy.sparse.coo_matrix(file_to_differential(path)).asfptype()\n",
    "\n",
    "def get_knot_eigs(dir):\n",
    "    dict = read_differential_files(\"./KhoHo/differentials/knot_3_1\")\n",
    "    keys = dict.keys()\n",
    "\n",
    "    laplacians = {}\n",
    "\n",
    "    for (i, j) in sorted(keys, reverse=True):\n",
    "\n",
    "        d_i = get_diff_matrix(dict[(i,j)])\n",
    "\n",
    "        laplacian = 0\n",
    "        if (i-1,j) in keys:\n",
    "            d_i_minus_1 = get_diff_matrix(dict[(i-1,j)])\n",
    "            laplacian = (d_i_minus_1 * d_i_minus_1.transpose()) + (d_i.transpose() * d_i)\n",
    "            laplacians[(i,j)] = laplacian\n",
    "\n",
    "        else:\n",
    "            laplacian = d_i.transpose() * d_i    \n",
    "            laplacians[(i,j)] = laplacian\n",
    "\n",
    "        if laplacian.nnz == 0:\n",
    "            print(\"no non zero\")\n",
    "\n",
    "        if (i+1,j) not in laplacians:\n",
    "            laplacian = d_i * d_i.transpose()\n",
    "\n",
    "            if laplacian.nnz == 0:\n",
    "                print(\"no non zero\")\n",
    "            \n",
    "            laplacians[i+1,j] = laplacian\n",
    "    \n",
    "    with open(\"./eigs/knot_3_1_eigs\", \"w+\") as writer:\n",
    "        for (i,j) in laplacians.keys():\n",
    "\n",
    "            if laplacians[(i,j)].shape == (1,1):\n",
    "                # output_line = str(i) + \" \" + str(j) + \" \" + str(eig_small) + str(eig_large)\n",
    "                # writer.write(output_line)\n",
    "                continue\n",
    "            \n",
    "            eig_small, eig_large = get_eigs(laplacians[(i,j)])\n",
    "\n",
    "            output_line = str(i) + \" \" + str(j) + \" \" + str(eig_small) + \" \" + str(eig_large) + \"\\n\"\n",
    "            writer.write(output_line)\n",
    "\n",
    "get_knot_eigs(\"\")\n"
   ]
  },
  {
   "cell_type": "code",
   "execution_count": null,
   "metadata": {},
   "outputs": [],
   "source": []
  },
  {
   "cell_type": "code",
   "execution_count": null,
   "metadata": {},
   "outputs": [],
   "source": []
  },
  {
   "cell_type": "code",
   "execution_count": null,
   "metadata": {},
   "outputs": [],
   "source": []
  }
 ],
 "metadata": {
  "interpreter": {
   "hash": "31f2aee4e71d21fbe5cf8b01ff0e069b9275f58929596ceb00d14d90e3e16cd6"
  },
  "kernelspec": {
   "name": "python3",
   "display_name": "Python 3.6.9 64-bit"
  },
  "language_info": {
   "codemirror_mode": {
    "name": "ipython",
    "version": 3
   },
   "file_extension": ".py",
   "mimetype": "text/x-python",
   "name": "python",
   "nbconvert_exporter": "python",
   "pygments_lexer": "ipython3",
   "version": "3.6.9"
  }
 },
 "nbformat": 4,
 "nbformat_minor": 2
}