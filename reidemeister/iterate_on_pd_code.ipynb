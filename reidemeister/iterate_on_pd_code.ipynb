{
 "cells": [
  {
   "cell_type": "code",
   "execution_count": null,
   "source": [
    "# This code has to be run in the snappy shell"
   ],
   "outputs": [],
   "metadata": {}
  },
  {
   "cell_type": "code",
   "execution_count": null,
   "source": [
    "crossings=3\n",
    "# L = random_link(crossings=3, num_components=1, simplify=None)\n",
    "\n",
    "# Trefoil\n",
    "L = Link([[1, 4, 2, 5],[3, 6, 4, 1],[5, 2, 6, 3]])\n",
    "\n",
    "# Unknot\n",
    "# L = Link([[1,0,0,1]])\n",
    "\n",
    "L.view(show_crossing_labels=True)\n",
    "original_PD_code = L.PD_code()\n",
    "\n",
    "# print initial PD code\n",
    "print(str(crossings)+\";0;\"+str(L.PD_code()))\n",
    "\n",
    "num_iter = 5000\n",
    "idx = 1\n",
    "for i in range(num_iter):\n",
    "    # reset to original random link\n",
    "    L = Link(original_PD_code)\n",
    "\n",
    "    # keep track of max number of crossings this knot may have\n",
    "    max_crossings = crossings\n",
    "    while max_crossings < 11:\n",
    "        # perform Reidemeister moves\n",
    "\n",
    "        L.backtrack(steps=1, prob_type_1=0.33333333333333333333333333333333, prob_type_2=0.33333333333333333333333333333333)\n",
    "        \n",
    "        PD_code = L.PD_code()\n",
    "        print(str(len(PD_code))+\";\"+str(idx)+\";\"+str(PD_code))\n",
    "        \n",
    "        max_crossings += 2\n",
    "        idx += 1"
   ],
   "outputs": [],
   "metadata": {}
  }
 ],
 "metadata": {
  "orig_nbformat": 4,
  "language_info": {
   "name": "python"
  }
 },
 "nbformat": 4,
 "nbformat_minor": 2
}