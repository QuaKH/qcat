{
 "metadata": {
  "language_info": {
   "codemirror_mode": {
    "name": "ipython",
    "version": 3
   },
   "file_extension": ".py",
   "mimetype": "text/x-python",
   "name": "python",
   "nbconvert_exporter": "python",
   "pygments_lexer": "ipython3",
   "version": "3.6.9"
  },
  "orig_nbformat": 4,
  "kernelspec": {
   "name": "python3",
   "display_name": "Python 3.6.9 64-bit"
  },
  "interpreter": {
   "hash": "31f2aee4e71d21fbe5cf8b01ff0e069b9275f58929596ceb00d14d90e3e16cd6"
  }
 },
 "nbformat": 4,
 "nbformat_minor": 2,
 "cells": [
  {
   "cell_type": "code",
   "execution_count": 1,
   "source": [
    "import matplotlib.pyplot as plt\n",
    "import numpy as np\n",
    "import csv\n",
    "import glob"
   ],
   "outputs": [],
   "metadata": {}
  },
  {
   "cell_type": "code",
   "execution_count": 16,
   "source": [
    "def read_laspa_files(dir):\n",
    "    files = glob.glob(dir + \"/*\")\n",
    "\n",
    "    nnz_all = []\n",
    "    dim_all = []\n",
    "\n",
    "    for file in files:\n",
    "        nnz, dim = get_list(file)\n",
    "        nnz_all += nnz\n",
    "        dim_all += dim\n",
    "\n",
    "    return nnz_all, dim_all\n",
    "    \n",
    "\n",
    "def get_list(path):\n",
    "    data = \"\"\n",
    "    nnz = []\n",
    "    dim = []\n",
    "    with open(path, newline='') as csvfile:\n",
    "        data = csv.reader(csvfile, delimiter=\" \")\n",
    "        \n",
    "        for line in data:\n",
    "            nnz.append(float(line[2]))\n",
    "            dim.append(float(line[3]))\n",
    "\n",
    "    return nnz, dim\n",
    "\n",
    "# print(get_list(\"./laplacian_sparsity/knot_3_1_laspa\"))\n",
    "\n",
    "\n",
    "\n"
   ],
   "outputs": [],
   "metadata": {}
  },
  {
   "cell_type": "code",
   "execution_count": 6,
   "source": [
    "nnz_all, dim_all = read_laspa_files(\"./laplacian_sparsity\")\n",
    "print(len(nnz_all))\n",
    "\n"
   ],
   "outputs": [
    {
     "output_type": "stream",
     "name": "stdout",
     "text": [
      "42398\n"
     ]
    }
   ],
   "metadata": {}
  },
  {
   "cell_type": "code",
   "execution_count": 37,
   "source": [
    "import pandas as pd\n",
    "# nnz_all, dim_all = get_list(\"../laplacian_sparsity4-12/knot_11_701_laspa\")\n",
    "nnz_all, dim_all = read_laspa_files(\"../laplacian_sparsity4-12\")\n",
    "\n",
    "\n",
    "ratios = []\n",
    "for i in range(len(nnz_all)):\n",
    "    ratios.append(nnz_all[i] / dim_all[i]**2)\n",
    "\n",
    "    \n",
    "\n",
    "# plt.hist(ratios)\n",
    "# plt.xlabel(\"avg nnz per row\")\n",
    "# plt.show()\n",
    "\n",
    "plt.scatter(dim_all, ratios)\n",
    "plt.xlabel(\"num matrix rows\")\n",
    "plt.ylabel(\"sparsity\")\n",
    "plt.title(\"d(n)\")\n",
    "plt.show()"
   ],
   "outputs": [
    {
     "output_type": "display_data",
     "data": {
      "text/plain": [
       "<Figure size 432x288 with 1 Axes>"
      ],
      "image/png": "[encoded data removed]"
     },
     "metadata": {
      "needs_background": "light"
     }
    }
   ],
   "metadata": {}
  },
  {
   "cell_type": "code",
   "execution_count": null,
   "source": [
    "plt.scatter(dim_all, nnz_all)\n",
    "print(\"hello\")\n",
    "plt.show()"
   ],
   "outputs": [],
   "metadata": {}
  }
 ]
}