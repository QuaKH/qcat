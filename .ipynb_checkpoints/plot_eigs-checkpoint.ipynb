{
 "cells": [
  {
   "cell_type": "code",
   "execution_count": null,
   "metadata": {},
   "outputs": [],
   "source": [
    "import matplotlib.pyplot as plt\n",
    "import math\n",
    "\n",
    "%matplotlib notebook\n",
    "\n",
    "def plot_knot_eigs(crossings, index):\n",
    "    path = \"./eigs/knot_\" + str(crossings) + \"_\" + str(index) + \"_eigs\"\n",
    "    dict = {}\n",
    "    i_vals = []\n",
    "    j_vals = []\n",
    "    ratios = []\n",
    "    with open(path) as reader:\n",
    "        line = reader.readline().strip().split(\" \")\n",
    "        while line != ['']:\n",
    "            i_vals.append(int(line[0]))\n",
    "            j_vals.append(int(line[1]))\n",
    "\n",
    "            eigs = []\n",
    "            for eig_val in line[2:]:\n",
    "                eigs.append(float(eig_val))\n",
    "            \n",
    "            min_idx = 0\n",
    "            while abs(eigs[min_idx]) < 1e-4: # math.isclose(0,, rel_tol=1e-4):\n",
    "                min_idx += 1\n",
    "\n",
    "            ratios.append(eigs[-1] / eigs[min_idx])\n",
    "\n",
    "            line = reader.readline().strip().split(\" \")\n",
    "    return i_vals, j_vals, ratios\n",
    "\n",
    "i_vals, j_vals, ratios = plot_knot_eigs(10,3)\n",
    "\n",
    "fig = plt.figure()\n",
    "ax = fig.add_subplot(projection='3d')\n",
    "\n",
    "ax.scatter(i_vals, j_vals, ratios)\n",
    "\n",
    "# plt.show()\n",
    "\n",
    "for angle in range(0, 360):\n",
    "    ax.view_init(30, angle)\n",
    "    plt.draw()\n",
    "    plt.pause(.1)\n"
   ]
  },
  {
   "cell_type": "code",
   "execution_count": null,
   "metadata": {},
   "outputs": [],
   "source": []
  }
 ],
 "metadata": {
  "interpreter": {
   "hash": "31f2aee4e71d21fbe5cf8b01ff0e069b9275f58929596ceb00d14d90e3e16cd6"
  },
  "kernelspec": {
   "display_name": "Python 3",
   "language": "python",
   "name": "python3"
  },
  "language_info": {
   "codemirror_mode": {
    "name": "ipython",
    "version": 3
   },
   "file_extension": ".py",
   "mimetype": "text/x-python",
   "name": "python",
   "nbconvert_exporter": "python",
   "pygments_lexer": "ipython3",
   "version": "3.6.9"
  }
 },
 "nbformat": 4,
 "nbformat_minor": 2
}
