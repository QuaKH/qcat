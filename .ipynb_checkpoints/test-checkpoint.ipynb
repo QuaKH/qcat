{
 "cells": [
  {
   "cell_type": "code",
   "execution_count": 75,
   "metadata": {},
   "outputs": [],
   "source": [
    "d2_path = \"KhoHo/sparse_d_1_2_5\"\n",
    "d1_path = \"KhoHo/sparse_d_1_3_5\""
   ]
  },
  {
   "cell_type": "code",
   "execution_count": 45,
   "metadata": {},
   "outputs": [],
   "source": [
    "import numpy as np"
   ]
  },
  {
   "cell_type": "code",
   "execution_count": 65,
   "metadata": {},
   "outputs": [],
   "source": [
    "def file_to_differential(path):\n",
    "    s = \"\"\n",
    "    with open(path, 'r') as reader:\n",
    "        s = reader.read()[10:-3]\n",
    "    \n",
    "    rows = []\n",
    "    cols = []\n",
    "    vals = []\n",
    "    \n",
    "    bitmask = np.int64(2**32)\n",
    "    \n",
    "    for elem in s.split(\", \"):\n",
    "        n = np.int64(elem)\n",
    "        rows.append((abs(n) // bitmask) - 1)\n",
    "        cols.append((abs(n) % bitmask) - 1)\n",
    "        vals.append(1 if n > 0 else -1)\n",
    "    \n",
    "    return vals, (rows, cols)\n",
    "\n",
    "# file_to_differential(path)"
   ]
  },
  {
   "cell_type": "code",
   "execution_count": 77,
   "metadata": {},
   "outputs": [
    {
     "name": "stdout",
     "output_type": "stream",
     "text": [
      "[2.58578644]\n"
     ]
    }
   ],
   "source": [
    "import scipy\n",
    "import scipy.sparse\n",
    "import scipy.sparse.linalg\n",
    "\n",
    "# generate differential matrices\n",
    "d1 = scipy.sparse.coo_matrix(file_to_differential(d1_path)).asfptype()\n",
    "d2 = scipy.sparse.coo_matrix(file_to_differential(d2_path)).asfptype()\n",
    "\n",
    "# d1 = scipy.sparse.coo_matrix([[6,4,5],[6,3,1],[6,3,7]]).asfptype()\n",
    "# d2 = scipy.sparse.coo_matrix([[6,4,5],[6,3,1],[6,3,7]]).asfptype()\n",
    "\n",
    "# compute laplacian from differentials\n",
    "laplacian = (d2 * d2.transpose())+(d1.transpose() * d1)\n",
    "\n",
    "# print(laplacian.toarray())\n",
    "\n",
    "# get smallest eigenpair\n",
    "eig_val, eig_vec = scipy.sparse.linalg.eigsh(laplacian, k=1, sigma=0, maxiter=1000)\n",
    "print(eig_val)"
   ]
  },
  {
   "cell_type": "code",
   "execution_count": 67,
   "metadata": {},
   "outputs": [
    {
     "name": "stdout",
     "output_type": "stream",
     "text": [
      "[[ 1. -1.  1. ...  0.  0.  0.]\n",
      " [ 0.  0.  0. ...  0.  0.  0.]\n",
      " [ 0.  0.  0. ...  0.  0.  0.]\n",
      " ...\n",
      " [ 0.  0.  0. ...  0.  0. -1.]\n",
      " [ 0.  0.  0. ...  0.  0. -1.]\n",
      " [ 0.  0.  0. ...  0.  0. -1.]]\n"
     ]
    }
   ],
   "source": [
    "print(d1.toarray())"
   ]
  },
  {
   "cell_type": "code",
   "execution_count": 68,
   "metadata": {},
   "outputs": [
    {
     "name": "stdout",
     "output_type": "stream",
     "text": [
      "[[ 1. -1.  1. ...  0.  0.  0.]\n",
      " [ 1.  0.  0. ...  0.  0.  0.]\n",
      " [ 0.  1.  0. ...  0.  0.  0.]\n",
      " ...\n",
      " [ 0.  0.  0. ...  0.  1.  0.]\n",
      " [ 0.  0.  0. ...  0.  1.  0.]\n",
      " [ 0.  0.  0. ...  0.  0.  1.]]\n"
     ]
    }
   ],
   "source": [
    "print(d2.toarray())"
   ]
  },
  {
   "cell_type": "code",
   "execution_count": null,
   "metadata": {},
   "outputs": [],
   "source": []
  }
 ],
 "metadata": {
  "interpreter": {
   "hash": "6ca88b1818e2bc78529ba45e14992bba7c2cd858d129cd5913051074e8cce6f9"
  },
  "kernelspec": {
   "display_name": "Python 3",
   "language": "python",
   "name": "python3"
  },
  "language_info": {
   "codemirror_mode": {
    "name": "ipython",
    "version": 3
   },
   "file_extension": ".py",
   "mimetype": "text/x-python",
   "name": "python",
   "nbconvert_exporter": "python",
   "pygments_lexer": "ipython3",
   "version": "3.6.9"
  }
 },
 "nbformat": 4,
 "nbformat_minor": 2
}
