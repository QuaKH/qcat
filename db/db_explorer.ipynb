{
 "cells": [
  {
   "cell_type": "code",
   "execution_count": 32,
   "metadata": {},
   "outputs": [],
   "source": [
    "import sqlite3\n",
    "import pandas as pd\n",
    "\n",
    "db_path = \"./eigs.db\"\n",
    "table_name = \"Random-Braid-Trace-Closure\"\n",
    "\n",
    "con = sqlite3.connect(db_path)\n",
    "df = pd.read_sql_query(\"SELECT * from \\\"\" + table_name + \"\\\"\", con)"
   ]
  },
  {
   "cell_type": "code",
   "execution_count": 33,
   "metadata": {},
   "outputs": [
    {
     "data": {
      "text/html": [
       "<div>\n",
       "<style scoped>\n",
       "    .dataframe tbody tr th:only-of-type {\n",
       "        vertical-align: middle;\n",
       "    }\n",
       "\n",
       "    .dataframe tbody tr th {\n",
       "        vertical-align: top;\n",
       "    }\n",
       "\n",
       "    .dataframe thead th {\n",
       "        text-align: right;\n",
       "    }\n",
       "</style>\n",
       "<table border=\"1\" class=\"dataframe\">\n",
       "  <thead>\n",
       "    <tr style=\"text-align: right;\">\n",
       "      <th></th>\n",
       "      <th>pd-code</th>\n",
       "      <th>crossings</th>\n",
       "      <th>i</th>\n",
       "      <th>j</th>\n",
       "      <th>laplacian-dim</th>\n",
       "      <th>laplacian-nnz</th>\n",
       "      <th>num-zero-eigs</th>\n",
       "      <th>min-eig</th>\n",
       "      <th>max-eig</th>\n",
       "    </tr>\n",
       "  </thead>\n",
       "  <tbody>\n",
       "  </tbody>\n",
       "</table>\n",
       "</div>"
      ],
      "text/plain": [
       "Empty DataFrame\n",
       "Columns: [pd-code, crossings, i, j, laplacian-dim, laplacian-nnz, num-zero-eigs, min-eig, max-eig]\n",
       "Index: []"
      ]
     },
     "execution_count": 33,
     "metadata": {},
     "output_type": "execute_result"
    }
   ],
   "source": [
    "df.head(100)"
   ]
  },
  {
   "cell_type": "markdown",
   "metadata": {},
   "source": [
    "To create a new table in the database, use this SQL query:\n",
    "\n",
    "CREATE TABLE \"New-Table-Name\" (\"pd-code\" text, \"i\" int, \"j\" int, \"num-zero-eigs\" int, \"laplacian-dim\" int, \"laplacian-nnz\" int, \"min-eig\" real, \"max-eig\" real)"
   ]
  },
  {
   "cell_type": "code",
   "execution_count": 31,
   "metadata": {},
   "outputs": [],
   "source": [
    "con = sqlite3.connect(db_path)\n",
    "cur = con.cursor()\n",
    "\n",
    "query = '''CREATE TABLE \"Random-Braid-Trace-Closure\" (\"pd-code\" text, \"crossings\" int, \"i\" int, \"j\" int, \"laplacian-dim\" int, \"laplacian-nnz\" int, \"num-zero-eigs\" int, \"min-eig\" real, \"max-eig\" real)'''\n",
    "\n",
    "cur.execute(query)\n",
    "\n",
    "con.commit()\n",
    "con.close()"
   ]
  }
 ],
 "metadata": {
  "interpreter": {
   "hash": "31f2aee4e71d21fbe5cf8b01ff0e069b9275f58929596ceb00d14d90e3e16cd6"
  },
  "kernelspec": {
   "display_name": "Python 3.6.8 64-bit",
   "language": "python",
   "name": "python3"
  },
  "language_info": {
   "codemirror_mode": {
    "name": "ipython",
    "version": 3
   },
   "file_extension": ".py",
   "mimetype": "text/x-python",
   "name": "python",
   "nbconvert_exporter": "python",
   "pygments_lexer": "ipython3",
   "version": "3.6.9"
  },
  "orig_nbformat": 4
 },
 "nbformat": 4,
 "nbformat_minor": 2
}
