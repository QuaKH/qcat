{
 "cells": [
  {
   "cell_type": "code",
   "execution_count": 5,
   "metadata": {},
   "outputs": [
    {
     "data": {
      "image/png": "[encoded data removed]",
      "text/plain": [
       "<Figure size 432x288 with 1 Axes>"
      ]
     },
     "metadata": {
      "needs_background": "light"
     },
     "output_type": "display_data"
    }
   ],
   "source": [
    "import numpy as np\n",
    "import matplotlib.pyplot as plt\n",
    "\n",
    "def data_to_dict(line):\n",
    "    d = {}\n",
    "    a = line.split(\" \")\n",
    "\n",
    "    d[\"user\"] = float(a[0][:-4])\n",
    "    \n",
    "    time = a[2][:-7].split(\":\")\n",
    "    d[\"elapsed\"] = int(time[-2]) * 60 + float(time[-1])\n",
    "    if (len(time) == 3):\n",
    "        d[\"elapsed\"] += int(time[-3]) * 3600\n",
    "\n",
    "    return d\n",
    "\n",
    "\n",
    "def times_box_plot_data(times_file_path, min_crossings, max_crossings):\n",
    "    data = [[] for i in range(max_crossings + 1)]\n",
    "\n",
    "    crossings = -1\n",
    "    diff_time = 0\n",
    "    eig_time = 0\n",
    "    idx = 0\n",
    "    with open(times_file_path) as file:\n",
    "        for line in file:\n",
    "            if idx == 0:\n",
    "                crossings = int(line.split(\" \")[1])\n",
    "            elif idx == 1:\n",
    "                pass\n",
    "            elif idx == 2:\n",
    "                diff_time = data_to_dict(line)[\"elapsed\"]\n",
    "            elif idx == 3:\n",
    "                pass\n",
    "            elif idx == 4:\n",
    "                eig_time = data_to_dict(line)[\"elapsed\"]\n",
    "            else:\n",
    "                data[crossings].append(diff_time + eig_time)\n",
    "\n",
    "                crossings = -1\n",
    "                diff_time = 0\n",
    "                eig_time = 0\n",
    "                idx = -1\n",
    "                \n",
    "            idx += 1\n",
    "            \n",
    "    return data[min_crossings:]\n",
    "\n",
    "data = times_box_plot_data(\"./run_all__pd_codes_TIMES4-12\", 4, 12)\n",
    "\n",
    "fig, ax = plt.subplots()\n",
    "ax.boxplot(data)\n",
    "\n",
    "plt.show()"
   ]
  },
  {
   "cell_type": "code",
   "execution_count": 6,
   "metadata": {},
   "outputs": [
    {
     "data": {
      "text/plain": [
       "{'user': 15526.24, 'elapsed': 4005.0}"
      ]
     },
     "execution_count": 6,
     "metadata": {},
     "output_type": "execute_result"
    }
   ],
   "source": [
    "data_to_dict(\"15526.24user 240.07system 1:06:45elapsed 393%CPU 803685context_switch 3832waits\")"
   ]
  },
  {
   "cell_type": "code",
   "execution_count": null,
   "metadata": {},
   "outputs": [],
   "source": []
  }
 ],
 "metadata": {
  "interpreter": {
   "hash": "31f2aee4e71d21fbe5cf8b01ff0e069b9275f58929596ceb00d14d90e3e16cd6"
  },
  "kernelspec": {
   "display_name": "Python 3",
   "language": "python",
   "name": "python3"
  },
  "language_info": {
   "codemirror_mode": {
    "name": "ipython",
    "version": 3
   },
   "file_extension": ".py",
   "mimetype": "text/x-python",
   "name": "python",
   "nbconvert_exporter": "python",
   "pygments_lexer": "ipython3",
   "version": "3.6.9"
  }
 },
 "nbformat": 4,
 "nbformat_minor": 2
}
