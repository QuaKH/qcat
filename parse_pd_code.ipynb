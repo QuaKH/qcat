{
 "cells": [
  {
   "cell_type": "code",
   "execution_count": null,
   "metadata": {},
   "outputs": [],
   "source": [
    "# def parse_pd_code(path):\n",
    "#     with open(path, \"r\") as file:\n",
    "#         lines = file.readlines()\n",
    "#         crossing_lines = lines[3::5]\n",
    "#         pd_codes = lines[6::5]\n",
    "#         for index in range(len(pd_codes)):\n",
    "#             pd_code = pd_codes[index][1:].replace(\"),\", \";\").replace(\"(\",\"\").replace(\")\",\"\")\n",
    "#             crossings = crossing_lines[index].split(\"random_link(\")[1].split(\",\")[0]\n",
    "#             print(\"compute_pd_code_differential(\" + pd_code[:-1] + \", \" + str(crossings) + \", \" + str(index) + \")\")\n",
    "# parse_pd_code(\"./pd_code_input.txt\")"
   ]
  },
  {
   "cell_type": "code",
   "execution_count": null,
   "metadata": {},
   "outputs": [
    {
     "ename": "",
     "evalue": "",
     "output_type": "error",
     "traceback": [
      "\u001b[1;31mJupyter cannot be started. Error attempting to locate jupyter: Running cells with 'Python 3.6.8 64-bit' requires jupyter and notebook package.\n",
      "Run the following command to install 'jupyter and notebook' into the Python environment. \n",
      "Command: 'conda install -n base jupyter notebook'"
     ]
    }
   ],
   "source": [
    "# Parses PD codes stored in text file in following format:\n",
    "# crossings;idx;[(1,2,3,4),(1,2,3,4),...]\n",
    "# Prints out code to run in Pari/GP to compute the differentials for each PD code\n",
    "def parse_pd_code(path):\n",
    "    with open(path, \"r\") as file:\n",
    "        lines = file.readlines()\n",
    "        for line in lines:\n",
    "            parts = line.split(\";\")\n",
    "            pd_code = parts[2].replace(\"),\", \";\").replace(\"(\",\"\").replace(\")\",\"\")\n",
    "            print(\"compute_pd_code_differential(\" + pd_code[:-1] + \", \" + parts[0] + \", \" + parts[1] + \")\")\n"
   ]
  }
 ],
 "metadata": {
  "interpreter": {
   "hash": "31f2aee4e71d21fbe5cf8b01ff0e069b9275f58929596ceb00d14d90e3e16cd6"
  },
  "kernelspec": {
   "display_name": "Python 3.6.9 64-bit",
   "name": "python3"
  },
  "language_info": {
   "codemirror_mode": {
    "name": "ipython",
    "version": 3
   },
   "file_extension": ".py",
   "mimetype": "text/x-python",
   "name": "python",
   "nbconvert_exporter": "python",
   "pygments_lexer": "ipython3",
   "version": "3.7.7"
  },
  "orig_nbformat": 4
 },
 "nbformat": 4,
 "nbformat_minor": 2
}
