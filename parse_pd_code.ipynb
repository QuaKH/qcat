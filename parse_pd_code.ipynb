{
 "cells": [
  {
   "cell_type": "code",
   "execution_count": null,
   "source": [
    "def parse_pd_code(path):\n",
    "    with open(path, \"r\") as file:\n",
    "        lines = file.readlines()\n",
    "        crossing_lines = lines[3::5]\n",
    "        pd_codes = lines[6::5]\n",
    "        for index in range(len(pd_codes)):\n",
    "            pd_code = pd_codes[index][1:].replace(\"),\", \");\")\n",
    "            crossings = crossing_lines[index].split(\"random_link(\")[1].split(\",\")[0]\n",
    "            print(\"compute_pd_code_differential(\" + pd_code + \", \" + str(crossings) + \", \" + str(index) + \")\")\n",
    "parse_pd_code(\"./pd_code_input.txt\")"
   ],
   "outputs": [],
   "metadata": {}
  }
 ],
 "metadata": {
  "orig_nbformat": 4,
  "language_info": {
   "name": "python",
   "version": "3.6.9",
   "mimetype": "text/x-python",
   "codemirror_mode": {
    "name": "ipython",
    "version": 3
   },
   "pygments_lexer": "ipython3",
   "nbconvert_exporter": "python",
   "file_extension": ".py"
  },
  "kernelspec": {
   "name": "python3",
   "display_name": "Python 3.6.9 64-bit"
  },
  "interpreter": {
   "hash": "31f2aee4e71d21fbe5cf8b01ff0e069b9275f58929596ceb00d14d90e3e16cd6"
  }
 },
 "nbformat": 4,
 "nbformat_minor": 2
}