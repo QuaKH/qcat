{
 "cells": [
  {
   "cell_type": "code",
   "execution_count": 5,
   "metadata": {},
   "outputs": [],
   "source": [
    "import collections\n",
    "import scipy\n",
    "import random\n",
    "import snappy\n",
    "import numpy as np"
   ]
  },
  {
   "cell_type": "code",
   "execution_count": 14,
   "metadata": {},
   "outputs": [],
   "source": [
    "# Generate Rolfsen table pd codes\n",
    "crossings = [3,4,5,6,7,8,9,10]\n",
    "count = [1,1,2,3,7,21,49,164]\n",
    "\n",
    "f = open(\"../pd_code_files/Rolfsen\", \"w\")\n",
    "\n",
    "for i in range(len(crossings)):\n",
    "    for j in range(1, count[i] + 1):\n",
    "        # get Rolfsen knot\n",
    "        L = snappy.Link(str(crossings[i]) + \"_\" + str(j))\n",
    "        f.write(str(crossings[i]) + \";\" + str(j) + \";\" + str(L.PD_code()) + \"\\n\")\n",
    "\n",
    "f.close()"
   ]
  },
  {
   "cell_type": "code",
   "execution_count": null,
   "metadata": {},
   "outputs": [],
   "source": []
  }
 ],
 "metadata": {
  "interpreter": {
   "hash": "31f2aee4e71d21fbe5cf8b01ff0e069b9275f58929596ceb00d14d90e3e16cd6"
  },
  "kernelspec": {
   "display_name": "Python 3.6.9 64-bit",
   "language": "python",
   "name": "python3"
  },
  "language_info": {
   "codemirror_mode": {
    "name": "ipython",
    "version": 3
   },
   "file_extension": ".py",
   "mimetype": "text/x-python",
   "name": "python",
   "nbconvert_exporter": "python",
   "pygments_lexer": "ipython3",
   "version": "3.6.9"
  },
  "orig_nbformat": 4
 },
 "nbformat": 4,
 "nbformat_minor": 2
}
