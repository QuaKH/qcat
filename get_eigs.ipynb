{
 "cells": [
  {
   "cell_type": "code",
   "execution_count": 2,
   "metadata": {},
   "outputs": [],
   "source": [
    "import numpy as np"
   ]
  },
  {
   "cell_type": "code",
   "execution_count": 4,
   "metadata": {},
   "outputs": [],
   "source": [
    "def file_to_differential(path):\n",
    "    s = \"\"\n",
    "    with open(path, 'r') as reader:\n",
    "        s = reader.read()[10:-3]\n",
    "    \n",
    "    rows = []\n",
    "    cols = []\n",
    "    vals = []\n",
    "    \n",
    "    bitmask = np.int64(2**32)\n",
    "    \n",
    "    for elem in s.split(\", \"):\n",
    "        n = np.int64(elem)\n",
    "        rows.append((abs(n) // bitmask) - 1)\n",
    "        cols.append((abs(n) % bitmask) - 1)\n",
    "        vals.append(1 if n > 0 else -1)\n",
    "    \n",
    "    return vals, (rows, cols)\n",
    "\n",
    "# file_to_differential(\"/home/jay/desktop/qcat/KhoHo/differentials/knot_3_1/knot_3_1__d_-1_-3\")"
   ]
  },
  {
   "cell_type": "code",
   "execution_count": 5,
   "metadata": {},
   "outputs": [],
   "source": [
    "import scipy\n",
    "import scipy.sparse\n",
    "import scipy.sparse.linalg\n",
    "\n",
    "# compute laplacian from differentials\n",
    "# def get_laplacian(d_i_minus_1, d_i):\n",
    "    \n",
    "#     if d_i != None:\n",
    "#         D_i = d_i.transpose() * d_i\n",
    "\n",
    "#     if d_i_minus_1 != None\n",
    "#         D_i_minus_1 = d_i_minus_1 * d_i_minus_1.transpose()\n",
    "\n",
    "#     return None\n",
    "\n",
    "def get_eigs(laplacian):\n",
    "    # get smallest eigenpair\n",
    "\n",
    "    eig_val_small = -1\n",
    "    # if laplacian.det() != 0: # @TODO: somehow decide if this laplacian is nonsingular\n",
    "    # eig_val_small, eig_vec_small = scipy.sparse.linalg.eigsh(laplacian, k=1, sigma=0, maxiter=1000)\n",
    "    eig_vals = scipy.linalg.eigh(laplacian.toarray(), eigvals_only=True)\n",
    "    \n",
    "    # get only largest eigenvalue using sparse matrix\n",
    "    # eig_val_big, eig_vec_big = scipy.sparse.linalg.eigsh(laplacian, k=1, maxiter=1000)\n",
    "\n",
    "    # return (eig_val_small, eig_val_big)\n",
    "    return eig_vals\n"
   ]
  },
  {
   "cell_type": "code",
   "execution_count": 6,
   "metadata": {},
   "outputs": [],
   "source": [
    "import glob\n",
    "\n",
    "def read_differential_files(dir):\n",
    "    files = glob.glob(dir + \"/*\")\n",
    "\n",
    "    dict = {}\n",
    "\n",
    "    for file in files:\n",
    "        data = file.split(\"_\")\n",
    "        i = int(data[-2])\n",
    "        j = int(data[-1])\n",
    "        \n",
    "        dict[(i,j)] = file\n",
    "    \n",
    "    return dict"
   ]
  },
  {
   "cell_type": "code",
   "execution_count": 7,
   "metadata": {},
   "outputs": [
    {
     "output_type": "error",
     "ename": "ValueError",
     "evalue": "inconsistent shapes",
     "traceback": [
      "\u001b[0;31m---------------------------------------------------------------------------\u001b[0m",
      "\u001b[0;31mValueError\u001b[0m                                Traceback (most recent call last)",
      "\u001b[0;32m<ipython-input-7-15aa7815acb6>\u001b[0m in \u001b[0;36m<module>\u001b[0;34m()\u001b[0m\n\u001b[1;32m     54\u001b[0m             \u001b[0mwriter\u001b[0m\u001b[0;34m.\u001b[0m\u001b[0mwrite\u001b[0m\u001b[0;34m(\u001b[0m\u001b[0;34m\"\\n\"\u001b[0m\u001b[0;34m)\u001b[0m\u001b[0;34m\u001b[0m\u001b[0;34m\u001b[0m\u001b[0m\n\u001b[1;32m     55\u001b[0m \u001b[0;34m\u001b[0m\u001b[0m\n\u001b[0;32m---> 56\u001b[0;31m \u001b[0mget_knot_eigs\u001b[0m\u001b[0;34m(\u001b[0m\u001b[0;34m\"./KhoHo/differentials/knot_10_1/\"\u001b[0m\u001b[0;34m,\u001b[0m \u001b[0;36m10\u001b[0m\u001b[0;34m,\u001b[0m \u001b[0;36m1\u001b[0m\u001b[0;34m)\u001b[0m\u001b[0;34m\u001b[0m\u001b[0;34m\u001b[0m\u001b[0m\n\u001b[0m",
      "\u001b[0;32m<ipython-input-7-15aa7815acb6>\u001b[0m in \u001b[0;36mget_knot_eigs\u001b[0;34m(dir, crossings, index)\u001b[0m\n\u001b[1;32m     25\u001b[0m         \u001b[0;32mif\u001b[0m \u001b[0;34m(\u001b[0m\u001b[0mi\u001b[0m\u001b[0;34m-\u001b[0m\u001b[0;36m1\u001b[0m\u001b[0;34m,\u001b[0m\u001b[0mj\u001b[0m\u001b[0;34m)\u001b[0m \u001b[0;32min\u001b[0m \u001b[0mkeys\u001b[0m\u001b[0;34m:\u001b[0m\u001b[0;34m\u001b[0m\u001b[0;34m\u001b[0m\u001b[0m\n\u001b[1;32m     26\u001b[0m             \u001b[0md_i_minus_1\u001b[0m \u001b[0;34m=\u001b[0m \u001b[0mget_diff_matrix\u001b[0m\u001b[0;34m(\u001b[0m\u001b[0mdict\u001b[0m\u001b[0;34m[\u001b[0m\u001b[0;34m(\u001b[0m\u001b[0mi\u001b[0m\u001b[0;34m-\u001b[0m\u001b[0;36m1\u001b[0m\u001b[0;34m,\u001b[0m\u001b[0mj\u001b[0m\u001b[0;34m)\u001b[0m\u001b[0;34m]\u001b[0m\u001b[0;34m)\u001b[0m\u001b[0;34m\u001b[0m\u001b[0;34m\u001b[0m\u001b[0m\n\u001b[0;32m---> 27\u001b[0;31m             \u001b[0mlaplacian\u001b[0m \u001b[0;34m=\u001b[0m \u001b[0;34m(\u001b[0m\u001b[0md_i_minus_1\u001b[0m \u001b[0;34m*\u001b[0m \u001b[0md_i_minus_1\u001b[0m\u001b[0;34m.\u001b[0m\u001b[0mtranspose\u001b[0m\u001b[0;34m(\u001b[0m\u001b[0;34m)\u001b[0m\u001b[0;34m)\u001b[0m \u001b[0;34m+\u001b[0m \u001b[0;34m(\u001b[0m\u001b[0md_i\u001b[0m\u001b[0;34m.\u001b[0m\u001b[0mtranspose\u001b[0m\u001b[0;34m(\u001b[0m\u001b[0;34m)\u001b[0m \u001b[0;34m*\u001b[0m \u001b[0md_i\u001b[0m\u001b[0;34m)\u001b[0m\u001b[0;34m\u001b[0m\u001b[0;34m\u001b[0m\u001b[0m\n\u001b[0m\u001b[1;32m     28\u001b[0m             \u001b[0mlaplacians\u001b[0m\u001b[0;34m[\u001b[0m\u001b[0;34m(\u001b[0m\u001b[0mi\u001b[0m\u001b[0;34m,\u001b[0m\u001b[0mj\u001b[0m\u001b[0;34m)\u001b[0m\u001b[0;34m]\u001b[0m \u001b[0;34m=\u001b[0m \u001b[0mlaplacian\u001b[0m\u001b[0;34m\u001b[0m\u001b[0;34m\u001b[0m\u001b[0m\n\u001b[1;32m     29\u001b[0m         \u001b[0;32melse\u001b[0m\u001b[0;34m:\u001b[0m\u001b[0;34m\u001b[0m\u001b[0;34m\u001b[0m\u001b[0m\n",
      "\u001b[0;32m/home/jay/.local/lib/python3.6/site-packages/scipy/sparse/base.py\u001b[0m in \u001b[0;36m__add__\u001b[0;34m(self, other)\u001b[0m\n\u001b[1;32m    412\u001b[0m         \u001b[0;32melif\u001b[0m \u001b[0misspmatrix\u001b[0m\u001b[0;34m(\u001b[0m\u001b[0mother\u001b[0m\u001b[0;34m)\u001b[0m\u001b[0;34m:\u001b[0m\u001b[0;34m\u001b[0m\u001b[0;34m\u001b[0m\u001b[0m\n\u001b[1;32m    413\u001b[0m             \u001b[0;32mif\u001b[0m \u001b[0mother\u001b[0m\u001b[0;34m.\u001b[0m\u001b[0mshape\u001b[0m \u001b[0;34m!=\u001b[0m \u001b[0mself\u001b[0m\u001b[0;34m.\u001b[0m\u001b[0mshape\u001b[0m\u001b[0;34m:\u001b[0m\u001b[0;34m\u001b[0m\u001b[0;34m\u001b[0m\u001b[0m\n\u001b[0;32m--> 414\u001b[0;31m                 \u001b[0;32mraise\u001b[0m \u001b[0mValueError\u001b[0m\u001b[0;34m(\u001b[0m\u001b[0;34m\"inconsistent shapes\"\u001b[0m\u001b[0;34m)\u001b[0m\u001b[0;34m\u001b[0m\u001b[0;34m\u001b[0m\u001b[0m\n\u001b[0m\u001b[1;32m    415\u001b[0m             \u001b[0;32mreturn\u001b[0m \u001b[0mself\u001b[0m\u001b[0;34m.\u001b[0m\u001b[0m_add_sparse\u001b[0m\u001b[0;34m(\u001b[0m\u001b[0mother\u001b[0m\u001b[0;34m)\u001b[0m\u001b[0;34m\u001b[0m\u001b[0;34m\u001b[0m\u001b[0m\n\u001b[1;32m    416\u001b[0m         \u001b[0;32melif\u001b[0m \u001b[0misdense\u001b[0m\u001b[0;34m(\u001b[0m\u001b[0mother\u001b[0m\u001b[0;34m)\u001b[0m\u001b[0;34m:\u001b[0m\u001b[0;34m\u001b[0m\u001b[0;34m\u001b[0m\u001b[0m\n",
      "\u001b[0;31mValueError\u001b[0m: inconsistent shapes"
     ]
    }
   ],
   "source": [
    "\n",
    "def get_diff_matrix(path):\n",
    "    return scipy.sparse.coo_matrix(file_to_differential(path)).asfptype()\n",
    "\n",
    "def write_laplacian_sparsity(laplacian, crossings, index, i, j):\n",
    "    sparsity = laplacian.nnz\n",
    "\n",
    "    with open(\"./laplacian_sparsity/knot_\" + str(crossings) + \"_\" + str(index) + \"_laspa\", \"a+\") as writer:\n",
    "        writer.write(str(i) + \" \" + str(j) + \" \" + str(laplacian.nnz) + \" \" + str(laplacian.shape[0]) + \"\\n\")\n",
    "\n",
    "\n",
    "def get_knot_eigs(dir, crossings, index):\n",
    "\n",
    "    # @TODO: pass crossings and index to read_differential instead of parsing\n",
    "    dict = read_differential_files(dir)\n",
    "    keys = dict.keys()\n",
    "\n",
    "    laplacians = {}\n",
    "\n",
    "    for (i, j) in sorted(keys, reverse=True):\n",
    "\n",
    "        d_i = get_diff_matrix(dict[(i,j)])\n",
    "\n",
    "        laplacian = 0\n",
    "        if (i-1,j) in keys:\n",
    "            d_i_minus_1 = get_diff_matrix(dict[(i-1,j)])\n",
    "            laplacian = (d_i_minus_1 * d_i_minus_1.transpose()) + (d_i.transpose() * d_i)\n",
    "            laplacians[(i,j)] = laplacian\n",
    "        else:\n",
    "            laplacian = d_i.transpose() * d_i    \n",
    "            laplacians[(i,j)] = laplacian\n",
    "\n",
    "        # @TODO: save laplacian sparsity\n",
    "        \n",
    "        if (i+1,j) not in laplacians:\n",
    "            laplacian = d_i * d_i.transpose()\n",
    "            laplacians[i+1,j] = laplacian\n",
    "    \n",
    "    with open(\"./eigs/knot_\" + str(crossings) + \"_\" + str(index) + \"_eigs\", \"w+\") as writer:\n",
    "        for (i,j) in laplacians.keys():\n",
    "            write_laplacian_sparsity(laplacians[(i,j)], crossings, index, i, j)\n",
    "\n",
    "            if laplacians[(i,j)].shape == (1,1):\n",
    "                continue\n",
    "\n",
    "            # eig_small, eig_large = get_eigs(laplacians[(i,j)])\n",
    "            eig_vals = get_eigs(laplacians[(i,j)])\n",
    "\n",
    "            # write eigenvalues to file\n",
    "            output_line = str(i) + \" \" + str(j) + \" \"\n",
    "            writer.write(output_line)\n",
    "            for e in eig_vals:\n",
    "                writer.write(str(e) + \" \")\n",
    "            writer.write(\"\\n\")\n",
    "\n",
    "get_knot_eigs(\"./KhoHo/differentials/knot_10_1/\", 10, 1)\n"
   ]
  },
  {
   "cell_type": "code",
   "execution_count": null,
   "metadata": {},
   "outputs": [],
   "source": []
  },
  {
   "cell_type": "code",
   "execution_count": null,
   "metadata": {},
   "outputs": [],
   "source": []
  },
  {
   "cell_type": "code",
   "execution_count": null,
   "metadata": {},
   "outputs": [],
   "source": []
  }
 ],
 "metadata": {
  "interpreter": {
   "hash": "31f2aee4e71d21fbe5cf8b01ff0e069b9275f58929596ceb00d14d90e3e16cd6"
  },
  "kernelspec": {
   "name": "python3",
   "display_name": "Python 3.6.9 64-bit"
  },
  "language_info": {
   "codemirror_mode": {
    "name": "ipython",
    "version": 3
   },
   "file_extension": ".py",
   "mimetype": "text/x-python",
   "name": "python",
   "nbconvert_exporter": "python",
   "pygments_lexer": "ipython3",
   "version": "3.6.9"
  }
 },
 "nbformat": 4,
 "nbformat_minor": 2
}