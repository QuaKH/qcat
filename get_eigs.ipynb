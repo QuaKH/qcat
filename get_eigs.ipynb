{
 "cells": [
  {
   "cell_type": "code",
   "execution_count": 67,
   "source": [
    "import numpy as np\n",
    "import scipy\n",
    "import scipy.sparse\n",
    "import scipy.sparse.linalg\n",
    "import glob\n",
    "import threading\n",
    "import queue\n",
    "import pathlib"
   ],
   "outputs": [],
   "metadata": {}
  },
  {
   "cell_type": "code",
   "execution_count": 61,
   "source": [
    "def read_differential_from_file(path):\n",
    "    vec = None\n",
    "    shape = None\n",
    "    with open(path, 'r') as reader:\n",
    "        s = reader.readline().split(\" \")\n",
    "        shape = (int(s[0]), int(s[1]))\n",
    "        vec = reader.readline()[10:-3]\n",
    "    \n",
    "    rows = []\n",
    "    cols = []\n",
    "    vals = []\n",
    "    \n",
    "    # bitmask to read rows and cols from Pari/GP sparse format\n",
    "    bitmask = np.int64(2**32)\n",
    "    \n",
    "    for elem in vec.split(\", \"):\n",
    "        n = np.int64(elem)\n",
    "        rows.append((abs(n) // bitmask) - 1)\n",
    "        cols.append((abs(n) % bitmask) - 1)\n",
    "        vals.append(1 if n > 0 else -1)\n",
    "    \n",
    "    return (vals, (rows, cols)), shape"
   ],
   "outputs": [],
   "metadata": {}
  },
  {
   "cell_type": "code",
   "execution_count": 4,
   "source": [
    "def get_lap_eigs(laplacian, num_zero_eigs):\n",
    "    largest_eig = scipy.sparse.linalg.eigh(laplacian, k=1, return_eigenvectors=False)\n",
    "    smallest_eig = scipy.sparse.linalg.eigh(laplacian, k=num_zero_eigs+1, sigma=0, return_eigenvectors=False)[-1]\n",
    "\n",
    "    return smallest_eig, largest_eig"
   ],
   "outputs": [],
   "metadata": {}
  },
  {
   "cell_type": "code",
   "execution_count": 5,
   "source": [
    "def read_differential_files(dir):\n",
    "    files = glob.glob(dir + \"/*\")\n",
    "\n",
    "    d = {}\n",
    "\n",
    "    for file in files:\n",
    "        data = file.split(\"_\")\n",
    "        i = int(data[-2])\n",
    "        j = int(data[-1])\n",
    "        \n",
    "        d[(i,j)] = file\n",
    "    \n",
    "    return d"
   ],
   "outputs": [],
   "metadata": {}
  },
  {
   "cell_type": "code",
   "execution_count": 56,
   "source": [
    "# compute the dimension of the homology indicates the number of eigenvalues of laplacian\n",
    "# that are exactly zero\n",
    "# pass None for differential if zero matrix\n",
    "def get_num_zero_eigs(d_i_minus_1, d_i):\n",
    "    img_dim = 0\n",
    "    ker_dim = 0\n",
    "    if (d_i != None):\n",
    "        img_dim = np.linalg.matrix_rank(d_i.toarray())\n",
    "        ker_dim = d_i.shape[1]\n",
    "\n",
    "    if (d_i_minus_1 != None):\n",
    "        ker_dim = d_i_minus_1.shape[0] - np.linalg.matrix_rank(d_i_minus_1.toarray())\n",
    "    \n",
    "    return ker_dim - img_dim\n",
    "\n",
    "# get_num_zero_eigs(get_diff_matrix(\"./KhoHo/differentials/knot_6_1/knot_6_1__d_-1_1\"), get_diff_matrix(\"./KhoHo/differentials/knot_6_1/knot_6_1__d_0_1\"))"
   ],
   "outputs": [
    {
     "output_type": "execute_result",
     "data": {
      "text/plain": [
       "2"
      ]
     },
     "metadata": {},
     "execution_count": 56
    }
   ],
   "metadata": {}
  },
  {
   "cell_type": "code",
   "execution_count": 62,
   "source": [
    "\n",
    "def get_diff_matrix(path):\n",
    "    (vals, (rows, cols)), s = read_differential_from_file(path)\n",
    "    return scipy.sparse.coo_matrix((vals, (rows, cols)), shape=s).asfptype()\n",
    "\n",
    "def write_laplacian_sparsity(laplacian, crossings, index, i, j):\n",
    "    sparsity = laplacian.nnz\n",
    "\n",
    "    with open(\"./laplacian_sparsity/knot_\" + str(crossings) + \"_\" + str(index) + \"_laspa\", \"a+\") as writer:\n",
    "        writer.write(str(i) + \" \" + str(j) + \" \" + str(laplacian.nnz) + \" \" + str(laplacian.shape[0]) + \"\\n\")\n",
    "\n",
    "def get_laplacian_dict(differential_dict):\n",
    "    keys = differential_dict.keys()\n",
    "    laplacians = {}\n",
    "\n",
    "    for (i, j) in sorted(keys, reverse=True):\n",
    "        d_i = get_diff_matrix(differential_dict[(i,j)])\n",
    "\n",
    "        if (i-1,j) in keys:\n",
    "            d_i_minus_1 = get_diff_matrix(differential_dict[(i-1,j)])\n",
    "            laplacian = (d_i_minus_1 * d_i_minus_1.transpose()) + (d_i.transpose() * d_i)         \n",
    "            laplacians[(i,j)] = (laplacian, get_num_zero_eigs(d_i_minus_1, d_i))\n",
    "        else:\n",
    "            laplacian = d_i.transpose() * d_i    \n",
    "            laplacians[(i,j)] = (laplacian, get_num_zero_eigs(None, d_i))\n",
    "        \n",
    "        if (i+1,j) not in laplacians:\n",
    "            laplacian = d_i * d_i.transpose()\n",
    "            laplacians[i+1,j] = (laplacian, get_num_zero_eigs(d_i, None))\n",
    "    \n",
    "    return laplacians\n",
    "\n",
    "def get_knot_eigs(dir, crossings, index):\n",
    "    differential_dict = read_differential_files(dir)\n",
    "    laplacians = get_laplacian_dict(differential_dict)\n",
    "    \n",
    "    with open(\"./eigs/knot_\" + str(crossings) + \"_\" + str(index) + \"_eigs\", \"w+\") as writer:\n",
    "        for (i,j) in laplacians.keys():\n",
    "            # record sparsity of laplacian\n",
    "            write_laplacian_sparsity(laplacians[(i,j)][0], crossings, index, i, j)\n",
    "\n",
    "            # get eigenvalues of laplacian\n",
    "            eig_vals = get_lap_eigs(laplacians[(i,j)][0], laplacians[(i,j)][1])\n",
    "\n",
    "            # write eigenvalues to file\n",
    "            output_line = str(i) + \" \" + str(j) + \" \" + str(laplacians[(i,j)][1]) + \" \"\n",
    "            writer.write(output_line)\n",
    "            for e in eig_vals:\n",
    "                writer.write(str(e) + \" \")\n",
    "            writer.write(\"\\n\")\n",
    "\n",
    "# get_knot_eigs(\"./KhoHo/differentials/knot_7_1/\", 7, 1)\n"
   ],
   "outputs": [],
   "metadata": {}
  },
  {
   "cell_type": "code",
   "execution_count": null,
   "source": [
    "q = queue.Queue()\n",
    "\n",
    "def worker():\n",
    "    while (True):\n",
    "        task = q.get()\n",
    "        # print(\"working on \" + str(task[\"crossings\"]) + \"_\" + str(task[\"index\"]))\n",
    "        get_knot_eigs(task[\"path\"], task[\"crossings\"], task[\"index\"])\n",
    "        \n",
    "        q.task_done()\n",
    "\n",
    "def run_prague():\n",
    "    MAX_THREAD_NUM = 5\n",
    "    threads = [threading.Thread(target=worker, daemon=True).start() for i in range(MAX_THREAD_NUM)]\n",
    "\n",
    "    index_count = [1, 1, 2, 3, 7, 21, 49, 165]\n",
    "    for crossings in range(3,11):\n",
    "        for index in range(1,index_count[crossings - 3] + 1):\n",
    "            path = \"./KhoHo/differentials/knot_\" + str(crossings) + \"_\" + str(index)\n",
    "            dir = pathlib.Path(path)\n",
    "            \n",
    "            if dir.is_dir():\n",
    "                q.put({\"path\":path, \"crossings\": crossings, \"index\": index})\n",
    "\n",
    "    q.join()\n",
    "\n",
    "\n",
    "run_prague()"
   ],
   "outputs": [],
   "metadata": {}
  },
  {
   "cell_type": "code",
   "execution_count": null,
   "source": [
    "def get_file_name(crossings, index, type):\n",
    "    if type == \"differential\":\n",
    "        return \"knot_\" + str(crossings) + \"_\" + str(index)\n",
    "    if type == \"eig\":\n",
    "        return \"knot_\" + str(crossings) + \"_\" + str(index) + \"_eigs\"\n",
    "    if type == \"laplacian\":\n",
    "        return \"knot_\" + str(crossings) + \"_\" + str(index) + \"_laspa\"\n"
   ],
   "outputs": [],
   "metadata": {}
  },
  {
   "cell_type": "code",
   "execution_count": null,
   "source": [],
   "outputs": [],
   "metadata": {}
  },
  {
   "cell_type": "code",
   "execution_count": null,
   "source": [],
   "outputs": [],
   "metadata": {}
  }
 ],
 "metadata": {
  "interpreter": {
   "hash": "31f2aee4e71d21fbe5cf8b01ff0e069b9275f58929596ceb00d14d90e3e16cd6"
  },
  "kernelspec": {
   "name": "python3",
   "display_name": "Python 3.6.9 64-bit"
  },
  "language_info": {
   "codemirror_mode": {
    "name": "ipython",
    "version": 3
   },
   "file_extension": ".py",
   "mimetype": "text/x-python",
   "name": "python",
   "nbconvert_exporter": "python",
   "pygments_lexer": "ipython3",
   "version": "3.6.9"
  }
 },
 "nbformat": 4,
 "nbformat_minor": 2
}