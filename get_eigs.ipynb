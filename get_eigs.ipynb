{
 "cells": [
  {
   "cell_type": "code",
   "execution_count": null,
   "metadata": {},
   "outputs": [
    {
     "ename": "",
     "evalue": "",
     "output_type": "error",
     "traceback": [
      "\u001b[1;31mJupyter cannot be started. Error attempting to locate jupyter: Running cells with 'Python 3.6.8 64-bit' requires jupyter and notebook package.\n",
      "Run the following command to install 'jupyter and notebook' into the Python environment. \n",
      "Command: '/usr/bin/python3 -m pip install jupyter notebook -U'"
     ]
    }
   ],
   "source": [
    "import numpy as np\n",
    "import scipy\n",
    "import scipy.sparse\n",
    "import scipy.sparse.linalg\n",
    "import sqlite3\n",
    "import glob\n",
    "import threading\n",
    "import queue\n",
    "import pathlib"
   ]
  },
  {
   "cell_type": "code",
   "execution_count": 5,
   "metadata": {},
   "outputs": [],
   "source": [
    "# gets the file names where each differential matrix is stored (in base directory dir)\n",
    "# returns dictionary with domain bigrading as keys and file name as values\n",
    "def read_differential_files(dir):\n",
    "    files = glob.glob(dir + \"/*\")\n",
    "\n",
    "    d = {}\n",
    "\n",
    "    for file in files:\n",
    "        data = file.split(\"_\")\n",
    "        i = int(data[-2])\n",
    "        j = int(data[-1])\n",
    "        \n",
    "        d[(i,j)] = file\n",
    "    \n",
    "    return d\n",
    "\n",
    "# gets differential matrix data from file\n",
    "def read_differential_from_file(path):\n",
    "    vec = None\n",
    "    shape = None\n",
    "    with open(path, 'r') as reader:\n",
    "        s = reader.readline().split(\" \")\n",
    "        shape = (int(s[0]), int(s[1]))\n",
    "        vec = reader.readline()[10:-3]\n",
    "    \n",
    "    rows = []\n",
    "    cols = []\n",
    "    vals = []\n",
    "    \n",
    "    # bitmask to read rows and cols from Pari/GP sparse format\n",
    "    bitmask = np.int64(2**32)\n",
    "    \n",
    "    for elem in vec.split(\", \"):\n",
    "        n = np.int64(elem)\n",
    "        rows.append((abs(n) // bitmask) - 1)\n",
    "        cols.append((abs(n) % bitmask) - 1)\n",
    "        vals.append(1 if n > 0 else -1)\n",
    "    \n",
    "    return (vals, (rows, cols)), shape\n",
    "\n",
    "# returns differential matrix stored at file path as scipy sparse matrix\n",
    "def get_diff_matrix(path):\n",
    "    (vals, (rows, cols)), s = read_differential_from_file(path)\n",
    "    return scipy.sparse.coo_matrix((vals, (rows, cols)), shape=s).asfptype()"
   ]
  },
  {
   "cell_type": "code",
   "execution_count": null,
   "metadata": {},
   "outputs": [],
   "source": [
    "# computes smallest and largest eigenvalues of laplacian matrix\n",
    "def get_lap_eigs(laplacian, num_zero_eigs):\n",
    "    # handle special case where laplacian is 1x1\n",
    "    if laplacian.shape[0] == 1:\n",
    "        val = laplacian.toarray()[0][0]\n",
    "        return val, val\n",
    "\n",
    "    largest = scipy.sparse.linalg.eigsh(laplacian, which=\"LM\", return_eigenvectors=False, k=1, tol=10e-5)[0]\n",
    "    \n",
    "    # Only one nonzero eigenvalue\n",
    "    if num_zero_eigs == laplacian.shape[0] - 1:\n",
    "        return largest, largest\n",
    "    \n",
    "    smallest = scipy.sparse.linalg.eigsh(laplacian, which=\"SM\", return_eigenvectors=False, k=num_zero_eigs + 1, tol=10e-5)[0]\n",
    "\n",
    "    return smallest, largest"
   ]
  },
  {
   "cell_type": "code",
   "execution_count": 56,
   "metadata": {},
   "outputs": [
    {
     "data": {
      "text/plain": [
       "2"
      ]
     },
     "execution_count": 56,
     "metadata": {},
     "output_type": "execute_result"
    }
   ],
   "source": [
    "# compute the dimension of the homology indicates the number of eigenvalues of laplacian\n",
    "# that are exactly zero\n",
    "# pass None for differential if zero matrix\n",
    "def get_num_zero_eigs(d_i_minus_1, d_i):\n",
    "    img_dim = 0\n",
    "    ker_dim = 0\n",
    "    if (d_i != None):\n",
    "        img_dim = np.linalg.matrix_rank(d_i.toarray())\n",
    "        ker_dim = d_i.shape[1]\n",
    "\n",
    "    if (d_i_minus_1 != None):\n",
    "        ker_dim = d_i_minus_1.shape[0] - np.linalg.matrix_rank(d_i_minus_1.toarray())\n",
    "    \n",
    "    return ker_dim - img_dim"
   ]
  },
  {
   "cell_type": "code",
   "execution_count": 62,
   "metadata": {},
   "outputs": [],
   "source": [
    "# creates a dictionary of laplacians accesible by (i,j) grading\n",
    "def get_laplacian_dict(differential_dict):\n",
    "    keys = differential_dict.keys()\n",
    "    laplacians = {}\n",
    "\n",
    "    for (i, j) in sorted(keys, reverse=True):\n",
    "        d_i = get_diff_matrix(differential_dict[(i,j)])\n",
    "\n",
    "        if (i-1,j) in keys:\n",
    "            d_i_minus_1 = get_diff_matrix(differential_dict[(i-1,j)])\n",
    "            laplacian = (d_i_minus_1 * d_i_minus_1.transpose()) + (d_i.transpose() * d_i)         \n",
    "            laplacians[(i,j)] = (laplacian, get_num_zero_eigs(d_i_minus_1, d_i))\n",
    "        else:\n",
    "            laplacian = d_i.transpose() * d_i    \n",
    "            laplacians[(i,j)] = (laplacian, get_num_zero_eigs(None, d_i))\n",
    "        \n",
    "        if (i+1,j) not in laplacians:\n",
    "            laplacian = d_i * d_i.transpose()\n",
    "            laplacians[i+1,j] = (laplacian, get_num_zero_eigs(d_i, None))\n",
    "    \n",
    "    return laplacians\n",
    "\n",
    "# computes eigenvalues of all laplacians for specified knot type and writes to file\n",
    "# dir specifies directory with differential matrices\n",
    "def get_knot_eigs(dir, pd_code, db_path, db_table_name):\n",
    "    differential_dict = read_differential_files(dir)\n",
    "    laplacians = get_laplacian_dict(differential_dict)\n",
    "\n",
    "    con = sqlite3.connect(db_path)\n",
    "    cur = con.cursor()\n",
    "\n",
    "    for (i,j) in laplacians.keys():\n",
    "\n",
    "        laplacian = laplacians[(i,j)][0]\n",
    "        num_zero_eigs = laplacians[(i,j)][1]\n",
    "\n",
    "        eig_vals = get_lap_eigs(laplacian, num_zero_eigs)\n",
    "\n",
    "        entry = {\n",
    "            \"pd-code\": pd_code,\n",
    "            \"crossings\": crossings,\n",
    "            \"i\": i,\n",
    "            \"j\": j,\n",
    "            \"num-zero-eigs\": num_zero_eigs,\n",
    "            \"laplacian-dim\": laplacian.shape[0],\n",
    "            \"laplacian-nnz\": laplacian.nnz,\n",
    "            \"min-eig\": eig_vals[0],\n",
    "            \"max-eig\": eig_vals[1]\n",
    "        }\n",
    "        \n",
    "        cur.execute(\"INSERT INTO \" + db_table_name + \"(\\\"pd-code\\\", \\\"crossings\\\", \\\"i\\\", \\\"j\\\", \\\"num-zero-eigs\\\", \\\"laplacian-dim\\\", \\\"laplacian-nnz\\\", \\\"min-eig\\\", \\\"max-eig\\\")\", entry)\n",
    "\n",
    "    con.commit()\n",
    "    con.close()\n"
   ]
  },
  {
   "cell_type": "code",
   "execution_count": null,
   "metadata": {},
   "outputs": [],
   "source": [
    "if __name__ == \"__main__\":\n",
    "    import sys\n",
    "    get_knot_eigs(sys.argv[1], int(sys.argv[2]), int(sys.argv[3]))"
   ]
  }
 ],
 "metadata": {
  "interpreter": {
   "hash": "31f2aee4e71d21fbe5cf8b01ff0e069b9275f58929596ceb00d14d90e3e16cd6"
  },
  "kernelspec": {
   "display_name": "Python 3.6.9 64-bit",
   "name": "python3"
  },
  "language_info": {
   "codemirror_mode": {
    "name": "ipython",
    "version": 3
   },
   "file_extension": ".py",
   "mimetype": "text/x-python",
   "name": "python",
   "nbconvert_exporter": "python",
   "pygments_lexer": "ipython3",
   "version": "3.6.8"
  }
 },
 "nbformat": 4,
 "nbformat_minor": 2
}
